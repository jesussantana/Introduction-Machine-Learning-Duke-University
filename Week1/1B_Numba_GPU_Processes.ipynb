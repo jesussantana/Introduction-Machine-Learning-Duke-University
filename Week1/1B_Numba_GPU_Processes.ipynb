{
 "cells": [
  {
   "cell_type": "code",
   "execution_count": 1,
   "metadata": {},
   "outputs": [],
   "source": [
    "import numpy as np\n",
    "import numba\n",
    "from numba import jit"
   ]
  },
  {
   "cell_type": "code",
   "execution_count": 2,
   "metadata": {},
   "outputs": [
    {
     "name": "stdout",
     "output_type": "stream",
     "text": [
      "0.51.2\n"
     ]
    }
   ],
   "source": [
    "print(numba.__version__)"
   ]
  },
  {
   "cell_type": "code",
   "execution_count": 3,
   "metadata": {},
   "outputs": [],
   "source": [
    "@jit(nopython=True)\n",
    "def go_fast(a): # Function is compiled to machine code when called the first time\n",
    "    trace = 0.0\n",
    "    # assuming square input matrix\n",
    "    for i in range(a.shape[0]):   # Numba likes loops\n",
    "        trace += np.tanh(a[i, i]) # Numba likes NumPy functions\n",
    "    return a + trace              # Numba likes NumPy broadcasting"
   ]
  },
  {
   "cell_type": "code",
   "execution_count": 4,
   "metadata": {},
   "outputs": [
    {
     "name": "stdout",
     "output_type": "stream",
     "text": [
      "CPU times: user 593 ms, sys: 628 ms, total: 1.22 s\n",
      "Wall time: 421 ms\n"
     ]
    },
    {
     "data": {
      "text/plain": [
       "array([[  9.,  10.,  11.,  12.,  13.,  14.,  15.,  16.,  17.,  18.],\n",
       "       [ 19.,  20.,  21.,  22.,  23.,  24.,  25.,  26.,  27.,  28.],\n",
       "       [ 29.,  30.,  31.,  32.,  33.,  34.,  35.,  36.,  37.,  38.],\n",
       "       [ 39.,  40.,  41.,  42.,  43.,  44.,  45.,  46.,  47.,  48.],\n",
       "       [ 49.,  50.,  51.,  52.,  53.,  54.,  55.,  56.,  57.,  58.],\n",
       "       [ 59.,  60.,  61.,  62.,  63.,  64.,  65.,  66.,  67.,  68.],\n",
       "       [ 69.,  70.,  71.,  72.,  73.,  74.,  75.,  76.,  77.,  78.],\n",
       "       [ 79.,  80.,  81.,  82.,  83.,  84.,  85.,  86.,  87.,  88.],\n",
       "       [ 89.,  90.,  91.,  92.,  93.,  94.,  95.,  96.,  97.,  98.],\n",
       "       [ 99., 100., 101., 102., 103., 104., 105., 106., 107., 108.]])"
      ]
     },
     "execution_count": 4,
     "metadata": {},
     "output_type": "execute_result"
    }
   ],
   "source": [
    "%%time\n",
    "x = np.arange(100).reshape(10, 10)\n",
    "go_fast(x)"
   ]
  },
  {
   "cell_type": "code",
   "execution_count": 5,
   "metadata": {},
   "outputs": [
    {
     "data": {
      "text/plain": [
       "array([[  9.,  11.,  13.,  15.,  17.,  19.,  21.,  23.,  25.,  27.],\n",
       "       [ 29.,  31.,  33.,  35.,  37.,  39.,  41.,  43.,  45.,  47.],\n",
       "       [ 49.,  51.,  53.,  55.,  57.,  59.,  61.,  63.,  65.,  67.],\n",
       "       [ 69.,  71.,  73.,  75.,  77.,  79.,  81.,  83.,  85.,  87.],\n",
       "       [ 89.,  91.,  93.,  95.,  97.,  99., 101., 103., 105., 107.],\n",
       "       [109., 111., 113., 115., 117., 119., 121., 123., 125., 127.],\n",
       "       [129., 131., 133., 135., 137., 139., 141., 143., 145., 147.],\n",
       "       [149., 151., 153., 155., 157., 159., 161., 163., 165., 167.],\n",
       "       [169., 171., 173., 175., 177., 179., 181., 183., 185., 187.],\n",
       "       [189., 191., 193., 195., 197., 199., 201., 203., 205., 207.]])"
      ]
     },
     "execution_count": 5,
     "metadata": {},
     "output_type": "execute_result"
    }
   ],
   "source": [
    "go_fast(2*x)"
   ]
  },
  {
   "cell_type": "code",
   "execution_count": 6,
   "metadata": {},
   "outputs": [
    {
     "name": "stdout",
     "output_type": "stream",
     "text": [
      "722 ns ± 12.3 ns per loop (mean ± std. dev. of 7 runs, 1000000 loops each)\n"
     ]
    }
   ],
   "source": [
    "%timeit go_fast(x)"
   ]
  },
  {
   "cell_type": "code",
   "execution_count": 7,
   "metadata": {},
   "outputs": [],
   "source": [
    "np.testing.assert_array_equal(go_fast(x), go_fast.py_func(x))"
   ]
  },
  {
   "cell_type": "code",
   "execution_count": 8,
   "metadata": {},
   "outputs": [
    {
     "name": "stdout",
     "output_type": "stream",
     "text": [
      "23.5 µs ± 490 ns per loop (mean ± std. dev. of 7 runs, 10000 loops each)\n"
     ]
    }
   ],
   "source": [
    "%timeit go_fast.py_func(x)"
   ]
  },
  {
   "cell_type": "code",
   "execution_count": 9,
   "metadata": {},
   "outputs": [],
   "source": [
    "def go_numpy(a):\n",
    "    return a + np.tanh(np.diagonal(a)).sum()"
   ]
  },
  {
   "cell_type": "code",
   "execution_count": 10,
   "metadata": {},
   "outputs": [],
   "source": [
    "np.testing.assert_array_equal(go_numpy(x), go_fast(x))"
   ]
  },
  {
   "cell_type": "code",
   "execution_count": 11,
   "metadata": {},
   "outputs": [
    {
     "name": "stdout",
     "output_type": "stream",
     "text": [
      "9.76 µs ± 269 ns per loop (mean ± std. dev. of 7 runs, 100000 loops each)\n"
     ]
    }
   ],
   "source": [
    "%timeit go_numpy(x)"
   ]
  },
  {
   "cell_type": "code",
   "execution_count": 12,
   "metadata": {},
   "outputs": [],
   "source": [
    "import random\n",
    "\n",
    "@jit(nopython=True)\n",
    "def spherical_to_cartesian(r, theta, phi):\n",
    "    '''Convert spherical coordinates (physics convention) to cartesian coordinates'''\n",
    "    sin_theta = np.sin(theta)\n",
    "    x = r * sin_theta * np.cos(phi)\n",
    "    y = r * sin_theta * np.sin(phi)\n",
    "    z = r * np.cos(theta)\n",
    "    \n",
    "    return x, y, z # return a tuple\n",
    "    \n",
    "@jit(nopython=True)\n",
    "def random_directions(n, r):\n",
    "    '''Return ``n`` 3-vectors in random directions with radius ``r``'''\n",
    "    out = np.empty(shape=(n,3), dtype=np.float64)\n",
    "    \n",
    "    for i in range(n):\n",
    "        # Pick directions randomly in solid angle\n",
    "        phi = random.uniform(0, 2*np.pi)\n",
    "        theta = np.arccos(random.uniform(-1, 1))\n",
    "        # unpack a tuple\n",
    "        x, y, z = spherical_to_cartesian(r, theta, phi)\n",
    "        out[i] = x, y, z\n",
    "    \n",
    "    return out"
   ]
  },
  {
   "cell_type": "code",
   "execution_count": 13,
   "metadata": {},
   "outputs": [
    {
     "data": {
      "text/plain": [
       "array([[-0.89593289, -0.43918829,  0.06646731],\n",
       "       [ 0.96833878, -0.15414402,  0.19636605],\n",
       "       [ 0.96361261,  0.23646884,  0.12463237],\n",
       "       [-0.70150979,  0.10632492, -0.70468363],\n",
       "       [ 0.35714394, -0.16142958, -0.91999386],\n",
       "       [ 0.31064003, -0.9051744 ,  0.290107  ],\n",
       "       [ 0.2965908 , -0.95011608, -0.09650564],\n",
       "       [ 0.73145549, -0.23297271, -0.64085613],\n",
       "       [ 0.29797243, -0.51905871, -0.80111827],\n",
       "       [-0.77918996, -0.50356609, -0.37320799]])"
      ]
     },
     "execution_count": 13,
     "metadata": {},
     "output_type": "execute_result"
    }
   ],
   "source": [
    "random_directions(10, 1.0)"
   ]
  },
  {
   "cell_type": "code",
   "execution_count": 14,
   "metadata": {},
   "outputs": [],
   "source": [
    "from numba import njit, config, __version__\n",
    "from numba.extending import overload\n",
    "import numpy as np\n",
    "assert tuple(int(x) for x in __version__.split('.')[:2]) >= (0, 41)"
   ]
  },
  {
   "cell_type": "code",
   "execution_count": 15,
   "metadata": {},
   "outputs": [
    {
     "name": "stdout",
     "output_type": "stream",
     "text": [
      "abczba\n",
      "False\n",
      "True\n",
      "True\n",
      "False\n",
      "False\n",
      "True\n",
      "True\n",
      "3 2 1\n",
      "2\n",
      "True\n",
      "ba a\n",
      "\n",
      "numba is 🐍⚡\n",
      "abczba\n",
      "False\n",
      "True\n",
      "True\n",
      "False\n",
      "False\n",
      "True\n",
      "True\n",
      "3 2 1\n",
      "2\n",
      "True\n",
      "ba a\n",
      "\n",
      "numba is 🐍⚡\n",
      "abczba\n",
      "False\n",
      "True\n",
      "True\n",
      "False\n",
      "False\n",
      "True\n",
      "True\n",
      "3 2 1\n",
      "2\n",
      "True\n",
      "ba a\n",
      "\n",
      "numba is 🐍⚡\n",
      "abczba\n",
      "False\n",
      "True\n",
      "True\n",
      "False\n",
      "False\n",
      "True\n",
      "True\n",
      "3 2 1\n",
      "2\n",
      "True\n",
      "ba a\n",
      "\n",
      "numba is 🐍⚡\n",
      "abczba\n",
      "False\n",
      "True\n",
      "True\n",
      "False\n",
      "False\n",
      "True\n",
      "True\n",
      "3 2 1\n",
      "2\n",
      "True\n",
      "ba a\n",
      "\n",
      "numba is 🐍⚡\n",
      "abczba\n",
      "False\n",
      "True\n",
      "True\n",
      "False\n",
      "False\n",
      "True\n",
      "True\n",
      "3 2 1\n",
      "2\n",
      "True\n",
      "ba a\n",
      "\n",
      "numba is 🐍⚡\n",
      "abczba\n",
      "False\n",
      "True\n",
      "True\n",
      "False\n",
      "False\n",
      "True\n",
      "True\n",
      "3 2 1\n",
      "2\n",
      "True\n",
      "ba a\n",
      "\n",
      "numba is 🐍⚡\n",
      "abczba\n",
      "False\n",
      "True\n",
      "True\n",
      "False\n",
      "False\n",
      "True\n",
      "True\n",
      "3 2 1\n",
      "2\n",
      "True\n",
      "ba a\n",
      "\n",
      "numba is 🐍⚡\n",
      "573 ms ± 25.6 ms per loop (mean ± std. dev. of 7 runs, 1 loop each)\n",
      "CPU times: user 7.32 s, sys: 34.1 ms, total: 7.36 s\n",
      "Wall time: 7.37 s\n"
     ]
    }
   ],
   "source": [
    "%%time\n",
    "%%timeit\n",
    "if config.PYVERSION > (3, 4): # Only supported in Python >= 3.4\n",
    "    \n",
    "    @njit\n",
    "    def strings_demo(str1, str2, str3):\n",
    "        # strings, ---^  ---^   ---^\n",
    "        # as arguments are now supported!\n",
    "        \n",
    "        # defining strings in compiled code also works\n",
    "        def1 = 'numba is '\n",
    "        \n",
    "        # as do unicode strings\n",
    "        def2 = '🐍⚡'\n",
    "        \n",
    "        # also string concatenation \n",
    "        print(str1 + str2)\n",
    "        \n",
    "        # comparison operations\n",
    "        print(str1 == str2)\n",
    "        print(str1 < str2)\n",
    "        print(str1 <= str2)\n",
    "        print(str1 > str2)\n",
    "        print(str1 >= str2)\n",
    "        \n",
    "        # {starts,ends}with\n",
    "        print(str1.startswith(str3))\n",
    "        print(str2.endswith(str3))\n",
    "        \n",
    "        # len()\n",
    "        print(len(str1), len(def2), len(str3))\n",
    "        \n",
    "        # str.find()\n",
    "        print(str2.find(str3))\n",
    "        \n",
    "        # in\n",
    "        print(str3 in str2)\n",
    "        \n",
    "        # slicing\n",
    "        print(str2[1:], str1[:1])\n",
    "        \n",
    "        # and finally, strings can also be returned\n",
    "        return '\\nnum' + str1[1::-1] + def1[5:] + def2\n",
    "    \n",
    "    \n",
    "    # run the demo\n",
    "    print(strings_demo('abc', 'zba', 'a'))"
   ]
  },
  {
   "cell_type": "code",
   "execution_count": 16,
   "metadata": {},
   "outputs": [
    {
     "name": "stdout",
     "output_type": "stream",
     "text": [
      " \n",
      "================================================================================\n",
      " Parallel Accelerator Optimizing:  Function test, <ipython-\n",
      "input-16-4feb4fd81cc0> (4)  \n",
      "================================================================================\n",
      "\n",
      "\n",
      "Parallel loop listing for  Function test, <ipython-input-16-4feb4fd81cc0> (4) \n",
      "-----------------------------------------------------------------------|loop #ID\n",
      "@njit(parallel=True)                                                   | \n",
      "def test(x):                                                           | \n",
      "    n = x.shape[0]                                                     | \n",
      "    a = np.sin(x)                      # parallel array expression-----| #0\n",
      "    b = np.cos(a * a)                  # parallel array expression-----| #1\n",
      "    acc = 0                                                            | \n",
      "    for i in prange(n - 2):            # user defined parallel loop----| #3\n",
      "        for j in prange(n - 1):        # user defined parallel loop----| #2\n",
      "            acc += b[i] + b[j + 1]     # parallel reduction            | \n",
      "    return acc                                                         | \n",
      "--------------------------------- Fusing loops ---------------------------------\n",
      "Attempting fusion of parallel loops (combines loops with similar properties)...\n",
      "  Trying to fuse loops #0 and #1:\n",
      "    - fusion succeeded: parallel for-loop #1 is fused into for-loop #0.\n",
      "  Trying to fuse loops #0 and #3:\n",
      "    - fusion failed: loop dimension mismatched in axis 0. slice(0, x_size0.1, 1)\n",
      " != slice(0, $46binary_subtract.18, 1)\n",
      "----------------------------- Before Optimisation ------------------------------\n",
      "Parallel region 0:\n",
      "+--0 (parallel)\n",
      "+--1 (parallel)\n",
      "\n",
      "\n",
      "Parallel region 1:\n",
      "+--3 (parallel)\n",
      "   +--2 (parallel)\n",
      "\n",
      "\n",
      "--------------------------------------------------------------------------------\n",
      "------------------------------ After Optimisation ------------------------------\n",
      "Parallel region 0:\n",
      "+--0 (parallel, fused with loop(s): 1)\n",
      "\n",
      "\n",
      "Parallel region 1:\n",
      "+--3 (parallel)\n",
      "   +--2 (serial)\n",
      "\n",
      "\n",
      " \n",
      "Parallel region 0 (loop #0) had 1 loop(s) fused.\n",
      " \n",
      "Parallel region 1 (loop #3) had 0 loop(s) fused and 1 loop(s) serialized as part\n",
      " of the larger parallel loop (#3).\n",
      "--------------------------------------------------------------------------------\n",
      "--------------------------------------------------------------------------------\n",
      " \n",
      "---------------------------Loop invariant code motion---------------------------\n",
      "Allocation hoisting:\n",
      "No allocation hoisting found\n",
      "\n",
      "Instruction hoisting:\n",
      "loop #0:\n",
      "  Failed to hoist the following:\n",
      "    dependency: $arg_out_var.10 = getitem(value=x, index=$parfor__index_5.136)\n",
      "    dependency: $14load_method.5.11 = getattr(value=$push_global_to_block.94, attr=sin)\n",
      "    dependency: $expr_out_var.9 = call $14load_method.5.11($arg_out_var.10, func=$14load_method.5.11, args=[Var($arg_out_var.10, <ipython-input-16-4feb4fd81cc0>:7)], kws=(), vararg=None)\n",
      "    dependency: $arg_out_var.17 = $expr_out_var.9 * $expr_out_var.9\n",
      "    dependency: $24load_method.9.20 = getattr(value=$push_global_to_block.95, attr=cos)\n",
      "    dependency: $expr_out_var.16 = call $24load_method.9.20($arg_out_var.17, func=$24load_method.9.20, args=[Var($arg_out_var.17, <ipython-input-16-4feb4fd81cc0>:8)], kws=(), vararg=None)\n",
      "loop #3:\n",
      "  Has the following hoisted:\n",
      "    $const60.4 = const(int, 1)\n",
      "    $62binary_subtract.5 = _n_30 - $const60.4\n",
      "  Failed to hoist the following:\n",
      "    dependency: acc_3 = acc.2\n",
      "--------------------------------------------------------------------------------\n"
     ]
    }
   ],
   "source": [
    "from numba import prange # import parallel range\n",
    "\n",
    "# decorate a function with `parallel=True` as usual\n",
    "@njit(parallel=True)\n",
    "def test(x):\n",
    "    n = x.shape[0]\n",
    "    a = np.sin(x)                      # parallel array expression\n",
    "    b = np.cos(a * a)                  # parallel array expression\n",
    "    acc = 0                            \n",
    "    for i in prange(n - 2):            # user defined parallel loop\n",
    "        for j in prange(n - 1):        # user defined parallel loop\n",
    "            acc += b[i] + b[j + 1]     # parallel reduction\n",
    "    return acc\n",
    "\n",
    "# run the function\n",
    "test(np.arange(10))\n",
    "\n",
    "# access the diagnostic output via the new `parallel_diagnostics` method on the dispatcher\n",
    "test.parallel_diagnostics(level=4)"
   ]
  },
  {
   "cell_type": "code",
   "execution_count": 17,
   "metadata": {},
   "outputs": [],
   "source": [
    "SQRT_2PI = np.sqrt(2 * np.pi)\n",
    "\n",
    "@jit(nopython=True, parallel=True)\n",
    "def gaussians(x, means, widths):\n",
    "    '''Return the value of gaussian kernels.\n",
    "    \n",
    "    x - location of evaluation\n",
    "    means - array of kernel means\n",
    "    widths - array of kernel widths\n",
    "    '''\n",
    "    n = means.shape[0]\n",
    "    result = np.exp( -0.5 * ((x - means) / widths)**2 ) / widths\n",
    "    return result / SQRT_2PI / n"
   ]
  },
  {
   "cell_type": "code",
   "execution_count": 18,
   "metadata": {},
   "outputs": [
    {
     "data": {
      "text/plain": [
       "array([1.72800460e-12, 7.43876830e-07, 4.72355470e-11, ...,\n",
       "       1.91792596e-09, 7.87847573e-07, 3.24725037e-08])"
      ]
     },
     "execution_count": 18,
     "metadata": {},
     "output_type": "execute_result"
    }
   ],
   "source": [
    "means = np.random.uniform(-1, 1, size=1000000)\n",
    "widths = np.random.uniform(0.1, 0.3, size=1000000)\n",
    "\n",
    "gaussians(0.4, means, widths)"
   ]
  },
  {
   "cell_type": "code",
   "execution_count": 19,
   "metadata": {},
   "outputs": [
    {
     "name": "stdout",
     "output_type": "stream",
     "text": [
      "14.7 ms ± 2.66 ms per loop (mean ± std. dev. of 7 runs, 1 loop each)\n",
      "3.96 ms ± 245 µs per loop (mean ± std. dev. of 7 runs, 100 loops each)\n"
     ]
    }
   ],
   "source": [
    "gaussians_nothread = jit(nopython=True)(gaussians.py_func)\n",
    "\n",
    "%timeit gaussians_nothread(0.4, means, widths)\n",
    "%timeit gaussians(0.4, means, widths)"
   ]
  },
  {
   "cell_type": "code",
   "execution_count": 20,
   "metadata": {},
   "outputs": [
    {
     "name": "stdout",
     "output_type": "stream",
     "text": [
      "20.2 ms ± 1.6 ms per loop (mean ± std. dev. of 7 runs, 10 loops each)\n"
     ]
    }
   ],
   "source": [
    "%timeit gaussians.py_func(0.4, means, widths) # compare to pure NumPy"
   ]
  },
  {
   "cell_type": "code",
   "execution_count": 21,
   "metadata": {},
   "outputs": [],
   "source": [
    "@jit(nopython=True, parallel=True)\n",
    "def kde(x, means, widths):\n",
    "    '''Return the value of gaussian kernels.\n",
    "    \n",
    "    x - location of evaluation\n",
    "    means - array of kernel means\n",
    "    widths - array of kernel widths\n",
    "    '''\n",
    "    n = means.shape[0]\n",
    "    result = np.exp( -0.5 * ((x - means) / widths)**2 ) / widths\n",
    "    return result.mean() / SQRT_2PI\n",
    "\n",
    "kde_nothread = jit(nopython=True)(kde.py_func)"
   ]
  },
  {
   "cell_type": "code",
   "execution_count": 22,
   "metadata": {},
   "outputs": [
    {
     "name": "stdout",
     "output_type": "stream",
     "text": [
      "9.47 ms ± 1.32 ms per loop (mean ± std. dev. of 7 runs, 1 loop each)\n",
      "3.3 ms ± 1.08 ms per loop (mean ± std. dev. of 7 runs, 1 loop each)\n"
     ]
    }
   ],
   "source": [
    "%timeit kde_nothread(0.4, means, widths)\n",
    "%timeit kde(0.4, means, widths)"
   ]
  },
  {
   "cell_type": "code",
   "execution_count": 23,
   "metadata": {},
   "outputs": [],
   "source": [
    "import random\n",
    "\n",
    "# Serial version\n",
    "@jit(nopython=True)\n",
    "def monte_carlo_pi_serial(nsamples):\n",
    "    acc = 0\n",
    "    for i in range(nsamples):\n",
    "        x = random.random()\n",
    "        y = random.random()\n",
    "        if (x**2 + y**2) < 1.0:\n",
    "            acc += 1\n",
    "    return 4.0 * acc / nsamples\n",
    "\n",
    "# Parallel version\n",
    "@jit(nopython=True, parallel=True)\n",
    "def monte_carlo_pi_parallel(nsamples):\n",
    "    acc = 0\n",
    "    # Only change is here\n",
    "    for i in numba.prange(nsamples):\n",
    "        x = random.random()\n",
    "        y = random.random()\n",
    "        if (x**2 + y**2) < 1.0:\n",
    "            acc += 1\n",
    "    return 4.0 * acc / nsamples"
   ]
  },
  {
   "cell_type": "code",
   "execution_count": 24,
   "metadata": {},
   "outputs": [
    {
     "name": "stdout",
     "output_type": "stream",
     "text": [
      "CPU times: user 3.87 s, sys: 0 ns, total: 3.87 s\n",
      "Wall time: 3.86 s\n",
      "CPU times: user 6.63 s, sys: 51.5 ms, total: 6.68 s\n",
      "Wall time: 1.24 s\n"
     ]
    },
    {
     "data": {
      "text/plain": [
       "3.1417072"
      ]
     },
     "execution_count": 24,
     "metadata": {},
     "output_type": "execute_result"
    }
   ],
   "source": [
    "%time monte_carlo_pi_serial(int(4e8))\n",
    "%time monte_carlo_pi_parallel(int(4e8))"
   ]
  }
 ],
 "metadata": {
  "kernelspec": {
   "display_name": "Python 3.8.5 64-bit ('base': conda)",
   "language": "python",
   "name": "python385jvsc74a57bd02c304d0744c63eb0cf275252f889b831c4efa7f5cd03bb8eb1791a6cbed8475e"
  },
  "language_info": {
   "codemirror_mode": {
    "name": "ipython",
    "version": 3
   },
   "file_extension": ".py",
   "mimetype": "text/x-python",
   "name": "python",
   "nbconvert_exporter": "python",
   "pygments_lexer": "ipython3",
   "version": "3.8.5"
  },
  "metadata": {
   "interpreter": {
    "hash": "2c304d0744c63eb0cf275252f889b831c4efa7f5cd03bb8eb1791a6cbed8475e"
   }
  }
 },
 "nbformat": 4,
 "nbformat_minor": 2
}
